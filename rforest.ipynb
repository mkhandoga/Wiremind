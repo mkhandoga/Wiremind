{
 "cells": [
  {
   "cell_type": "code",
   "execution_count": 1,
   "metadata": {},
   "outputs": [],
   "source": [
    "import os\n",
    "import pandas as pd\n",
    "import numpy as np\n",
    "#import xgboost\n",
    "import matplotlib.pyplot as plt\n",
    "from sklearn.model_selection import train_test_split\n",
    "from sklearn.ensemble import RandomForestRegressor\n",
    "import keras\n",
    "import utils"
   ]
  },
  {
   "cell_type": "code",
   "execution_count": null,
   "metadata": {},
   "outputs": [],
   "source": []
  },
  {
   "cell_type": "code",
   "execution_count": null,
   "metadata": {},
   "outputs": [],
   "source": []
  },
  {
   "cell_type": "code",
   "execution_count": 2,
   "metadata": {},
   "outputs": [],
   "source": [
    "\n",
    "\n",
    "\n",
    "DATA_PATH = \"/Users/mykola/MLHEP/Wiremind/\"\n",
    "raw_features = pd.read_csv(os.path.join(DATA_PATH, \"ds_train.csv\"))"
   ]
  },
  {
   "cell_type": "code",
   "execution_count": 3,
   "metadata": {},
   "outputs": [
    {
     "data": {
      "text/html": [
       "<div>\n",
       "<style scoped>\n",
       "    .dataframe tbody tr th:only-of-type {\n",
       "        vertical-align: middle;\n",
       "    }\n",
       "\n",
       "    .dataframe tbody tr th {\n",
       "        vertical-align: top;\n",
       "    }\n",
       "\n",
       "    .dataframe thead th {\n",
       "        text-align: right;\n",
       "    }\n",
       "</style>\n",
       "<table border=\"1\" class=\"dataframe\">\n",
       "  <thead>\n",
       "    <tr style=\"text-align: right;\">\n",
       "      <th></th>\n",
       "      <th>current_price</th>\n",
       "      <th>days_before_departure</th>\n",
       "      <th>departure_date</th>\n",
       "      <th>direction</th>\n",
       "      <th>train_number</th>\n",
       "      <th>demand</th>\n",
       "      <th>od_destination_time_year</th>\n",
       "      <th>od_destination_time_month</th>\n",
       "      <th>od_destination_time_week</th>\n",
       "      <th>od_destination_time_day</th>\n",
       "      <th>...</th>\n",
       "      <th>od_destination_time_minute</th>\n",
       "      <th>od_origin_time_hour</th>\n",
       "      <th>od_origin_time_minute</th>\n",
       "      <th>od_time_travel</th>\n",
       "      <th>of_holiday</th>\n",
       "      <th>unof_holiday</th>\n",
       "      <th>od_destination_time_hourmin</th>\n",
       "      <th>od_origin_time_hourmin</th>\n",
       "      <th>direction_bool</th>\n",
       "      <th>date_numerical</th>\n",
       "    </tr>\n",
       "  </thead>\n",
       "  <tbody>\n",
       "    <tr>\n",
       "      <th>0</th>\n",
       "      <td>100</td>\n",
       "      <td>0</td>\n",
       "      <td>2018-01-02</td>\n",
       "      <td>outbound</td>\n",
       "      <td>941</td>\n",
       "      <td>1.0</td>\n",
       "      <td>2018</td>\n",
       "      <td>1</td>\n",
       "      <td>1</td>\n",
       "      <td>2</td>\n",
       "      <td>...</td>\n",
       "      <td>41</td>\n",
       "      <td>5</td>\n",
       "      <td>17</td>\n",
       "      <td>144.0</td>\n",
       "      <td>0</td>\n",
       "      <td>0</td>\n",
       "      <td>461</td>\n",
       "      <td>317</td>\n",
       "      <td>1</td>\n",
       "      <td>2</td>\n",
       "    </tr>\n",
       "    <tr>\n",
       "      <th>1</th>\n",
       "      <td>100</td>\n",
       "      <td>1</td>\n",
       "      <td>2018-01-02</td>\n",
       "      <td>outbound</td>\n",
       "      <td>941</td>\n",
       "      <td>1.0</td>\n",
       "      <td>2018</td>\n",
       "      <td>1</td>\n",
       "      <td>1</td>\n",
       "      <td>2</td>\n",
       "      <td>...</td>\n",
       "      <td>41</td>\n",
       "      <td>5</td>\n",
       "      <td>17</td>\n",
       "      <td>144.0</td>\n",
       "      <td>0</td>\n",
       "      <td>0</td>\n",
       "      <td>461</td>\n",
       "      <td>317</td>\n",
       "      <td>1</td>\n",
       "      <td>2</td>\n",
       "    </tr>\n",
       "    <tr>\n",
       "      <th>2</th>\n",
       "      <td>100</td>\n",
       "      <td>2</td>\n",
       "      <td>2018-01-02</td>\n",
       "      <td>outbound</td>\n",
       "      <td>941</td>\n",
       "      <td>0.0</td>\n",
       "      <td>2018</td>\n",
       "      <td>1</td>\n",
       "      <td>1</td>\n",
       "      <td>2</td>\n",
       "      <td>...</td>\n",
       "      <td>41</td>\n",
       "      <td>5</td>\n",
       "      <td>17</td>\n",
       "      <td>144.0</td>\n",
       "      <td>0</td>\n",
       "      <td>0</td>\n",
       "      <td>461</td>\n",
       "      <td>317</td>\n",
       "      <td>1</td>\n",
       "      <td>2</td>\n",
       "    </tr>\n",
       "    <tr>\n",
       "      <th>3</th>\n",
       "      <td>100</td>\n",
       "      <td>3</td>\n",
       "      <td>2018-01-02</td>\n",
       "      <td>outbound</td>\n",
       "      <td>941</td>\n",
       "      <td>1.0</td>\n",
       "      <td>2018</td>\n",
       "      <td>1</td>\n",
       "      <td>1</td>\n",
       "      <td>2</td>\n",
       "      <td>...</td>\n",
       "      <td>41</td>\n",
       "      <td>5</td>\n",
       "      <td>17</td>\n",
       "      <td>144.0</td>\n",
       "      <td>0</td>\n",
       "      <td>0</td>\n",
       "      <td>461</td>\n",
       "      <td>317</td>\n",
       "      <td>1</td>\n",
       "      <td>2</td>\n",
       "    </tr>\n",
       "    <tr>\n",
       "      <th>4</th>\n",
       "      <td>100</td>\n",
       "      <td>4</td>\n",
       "      <td>2018-01-02</td>\n",
       "      <td>outbound</td>\n",
       "      <td>941</td>\n",
       "      <td>0.0</td>\n",
       "      <td>2018</td>\n",
       "      <td>1</td>\n",
       "      <td>1</td>\n",
       "      <td>2</td>\n",
       "      <td>...</td>\n",
       "      <td>41</td>\n",
       "      <td>5</td>\n",
       "      <td>17</td>\n",
       "      <td>144.0</td>\n",
       "      <td>0</td>\n",
       "      <td>0</td>\n",
       "      <td>461</td>\n",
       "      <td>317</td>\n",
       "      <td>1</td>\n",
       "      <td>2</td>\n",
       "    </tr>\n",
       "    <tr>\n",
       "      <th>...</th>\n",
       "      <td>...</td>\n",
       "      <td>...</td>\n",
       "      <td>...</td>\n",
       "      <td>...</td>\n",
       "      <td>...</td>\n",
       "      <td>...</td>\n",
       "      <td>...</td>\n",
       "      <td>...</td>\n",
       "      <td>...</td>\n",
       "      <td>...</td>\n",
       "      <td>...</td>\n",
       "      <td>...</td>\n",
       "      <td>...</td>\n",
       "      <td>...</td>\n",
       "      <td>...</td>\n",
       "      <td>...</td>\n",
       "      <td>...</td>\n",
       "      <td>...</td>\n",
       "      <td>...</td>\n",
       "      <td>...</td>\n",
       "      <td>...</td>\n",
       "    </tr>\n",
       "    <tr>\n",
       "      <th>292645</th>\n",
       "      <td>44</td>\n",
       "      <td>25</td>\n",
       "      <td>2018-12-28</td>\n",
       "      <td>inbound</td>\n",
       "      <td>980</td>\n",
       "      <td>0.0</td>\n",
       "      <td>2018</td>\n",
       "      <td>12</td>\n",
       "      <td>52</td>\n",
       "      <td>28</td>\n",
       "      <td>...</td>\n",
       "      <td>53</td>\n",
       "      <td>21</td>\n",
       "      <td>50</td>\n",
       "      <td>123.0</td>\n",
       "      <td>0</td>\n",
       "      <td>0</td>\n",
       "      <td>1433</td>\n",
       "      <td>1310</td>\n",
       "      <td>0</td>\n",
       "      <td>362</td>\n",
       "    </tr>\n",
       "    <tr>\n",
       "      <th>292646</th>\n",
       "      <td>44</td>\n",
       "      <td>26</td>\n",
       "      <td>2018-12-28</td>\n",
       "      <td>inbound</td>\n",
       "      <td>980</td>\n",
       "      <td>0.0</td>\n",
       "      <td>2018</td>\n",
       "      <td>12</td>\n",
       "      <td>52</td>\n",
       "      <td>28</td>\n",
       "      <td>...</td>\n",
       "      <td>53</td>\n",
       "      <td>21</td>\n",
       "      <td>50</td>\n",
       "      <td>123.0</td>\n",
       "      <td>0</td>\n",
       "      <td>0</td>\n",
       "      <td>1433</td>\n",
       "      <td>1310</td>\n",
       "      <td>0</td>\n",
       "      <td>362</td>\n",
       "    </tr>\n",
       "    <tr>\n",
       "      <th>292647</th>\n",
       "      <td>44</td>\n",
       "      <td>27</td>\n",
       "      <td>2018-12-28</td>\n",
       "      <td>inbound</td>\n",
       "      <td>980</td>\n",
       "      <td>0.0</td>\n",
       "      <td>2018</td>\n",
       "      <td>12</td>\n",
       "      <td>52</td>\n",
       "      <td>28</td>\n",
       "      <td>...</td>\n",
       "      <td>53</td>\n",
       "      <td>21</td>\n",
       "      <td>50</td>\n",
       "      <td>123.0</td>\n",
       "      <td>0</td>\n",
       "      <td>0</td>\n",
       "      <td>1433</td>\n",
       "      <td>1310</td>\n",
       "      <td>0</td>\n",
       "      <td>362</td>\n",
       "    </tr>\n",
       "    <tr>\n",
       "      <th>292648</th>\n",
       "      <td>44</td>\n",
       "      <td>28</td>\n",
       "      <td>2018-12-28</td>\n",
       "      <td>inbound</td>\n",
       "      <td>980</td>\n",
       "      <td>0.0</td>\n",
       "      <td>2018</td>\n",
       "      <td>12</td>\n",
       "      <td>52</td>\n",
       "      <td>28</td>\n",
       "      <td>...</td>\n",
       "      <td>53</td>\n",
       "      <td>21</td>\n",
       "      <td>50</td>\n",
       "      <td>123.0</td>\n",
       "      <td>0</td>\n",
       "      <td>0</td>\n",
       "      <td>1433</td>\n",
       "      <td>1310</td>\n",
       "      <td>0</td>\n",
       "      <td>362</td>\n",
       "    </tr>\n",
       "    <tr>\n",
       "      <th>292649</th>\n",
       "      <td>44</td>\n",
       "      <td>29</td>\n",
       "      <td>2018-12-28</td>\n",
       "      <td>inbound</td>\n",
       "      <td>980</td>\n",
       "      <td>0.0</td>\n",
       "      <td>2018</td>\n",
       "      <td>12</td>\n",
       "      <td>52</td>\n",
       "      <td>28</td>\n",
       "      <td>...</td>\n",
       "      <td>53</td>\n",
       "      <td>21</td>\n",
       "      <td>50</td>\n",
       "      <td>123.0</td>\n",
       "      <td>0</td>\n",
       "      <td>0</td>\n",
       "      <td>1433</td>\n",
       "      <td>1310</td>\n",
       "      <td>0</td>\n",
       "      <td>362</td>\n",
       "    </tr>\n",
       "  </tbody>\n",
       "</table>\n",
       "<p>292650 rows × 22 columns</p>\n",
       "</div>"
      ],
      "text/plain": [
       "        current_price  days_before_departure departure_date direction  \\\n",
       "0                 100                      0     2018-01-02  outbound   \n",
       "1                 100                      1     2018-01-02  outbound   \n",
       "2                 100                      2     2018-01-02  outbound   \n",
       "3                 100                      3     2018-01-02  outbound   \n",
       "4                 100                      4     2018-01-02  outbound   \n",
       "...               ...                    ...            ...       ...   \n",
       "292645             44                     25     2018-12-28   inbound   \n",
       "292646             44                     26     2018-12-28   inbound   \n",
       "292647             44                     27     2018-12-28   inbound   \n",
       "292648             44                     28     2018-12-28   inbound   \n",
       "292649             44                     29     2018-12-28   inbound   \n",
       "\n",
       "        train_number  demand  od_destination_time_year  \\\n",
       "0                941     1.0                      2018   \n",
       "1                941     1.0                      2018   \n",
       "2                941     0.0                      2018   \n",
       "3                941     1.0                      2018   \n",
       "4                941     0.0                      2018   \n",
       "...              ...     ...                       ...   \n",
       "292645           980     0.0                      2018   \n",
       "292646           980     0.0                      2018   \n",
       "292647           980     0.0                      2018   \n",
       "292648           980     0.0                      2018   \n",
       "292649           980     0.0                      2018   \n",
       "\n",
       "        od_destination_time_month  od_destination_time_week  \\\n",
       "0                               1                         1   \n",
       "1                               1                         1   \n",
       "2                               1                         1   \n",
       "3                               1                         1   \n",
       "4                               1                         1   \n",
       "...                           ...                       ...   \n",
       "292645                         12                        52   \n",
       "292646                         12                        52   \n",
       "292647                         12                        52   \n",
       "292648                         12                        52   \n",
       "292649                         12                        52   \n",
       "\n",
       "        od_destination_time_day  ...  od_destination_time_minute  \\\n",
       "0                             2  ...                          41   \n",
       "1                             2  ...                          41   \n",
       "2                             2  ...                          41   \n",
       "3                             2  ...                          41   \n",
       "4                             2  ...                          41   \n",
       "...                         ...  ...                         ...   \n",
       "292645                       28  ...                          53   \n",
       "292646                       28  ...                          53   \n",
       "292647                       28  ...                          53   \n",
       "292648                       28  ...                          53   \n",
       "292649                       28  ...                          53   \n",
       "\n",
       "        od_origin_time_hour  od_origin_time_minute  od_time_travel  \\\n",
       "0                         5                     17           144.0   \n",
       "1                         5                     17           144.0   \n",
       "2                         5                     17           144.0   \n",
       "3                         5                     17           144.0   \n",
       "4                         5                     17           144.0   \n",
       "...                     ...                    ...             ...   \n",
       "292645                   21                     50           123.0   \n",
       "292646                   21                     50           123.0   \n",
       "292647                   21                     50           123.0   \n",
       "292648                   21                     50           123.0   \n",
       "292649                   21                     50           123.0   \n",
       "\n",
       "        of_holiday  unof_holiday  od_destination_time_hourmin  \\\n",
       "0                0             0                          461   \n",
       "1                0             0                          461   \n",
       "2                0             0                          461   \n",
       "3                0             0                          461   \n",
       "4                0             0                          461   \n",
       "...            ...           ...                          ...   \n",
       "292645           0             0                         1433   \n",
       "292646           0             0                         1433   \n",
       "292647           0             0                         1433   \n",
       "292648           0             0                         1433   \n",
       "292649           0             0                         1433   \n",
       "\n",
       "        od_origin_time_hourmin  direction_bool  date_numerical  \n",
       "0                          317               1               2  \n",
       "1                          317               1               2  \n",
       "2                          317               1               2  \n",
       "3                          317               1               2  \n",
       "4                          317               1               2  \n",
       "...                        ...             ...             ...  \n",
       "292645                    1310               0             362  \n",
       "292646                    1310               0             362  \n",
       "292647                    1310               0             362  \n",
       "292648                    1310               0             362  \n",
       "292649                    1310               0             362  \n",
       "\n",
       "[292650 rows x 22 columns]"
      ]
     },
     "execution_count": 3,
     "metadata": {},
     "output_type": "execute_result"
    }
   ],
   "source": [
    "all_features = utils.features_preparation(raw_features)\n",
    "all_features"
   ]
  },
  {
   "cell_type": "code",
   "execution_count": 4,
   "metadata": {},
   "outputs": [
    {
     "name": "stderr",
     "output_type": "stream",
     "text": [
      "/usr/local/lib/python3.8/site-packages/pandas/core/indexing.py:966: SettingWithCopyWarning: \n",
      "A value is trying to be set on a copy of a slice from a DataFrame.\n",
      "Try using .loc[row_indexer,col_indexer] = value instead\n",
      "\n",
      "See the caveats in the documentation: https://pandas.pydata.org/pandas-docs/stable/user_guide/indexing.html#returning-a-view-versus-a-copy\n",
      "  self.obj[item] = s\n",
      "/usr/local/lib/python3.8/site-packages/pandas/core/frame.py:2963: SettingWithCopyWarning: \n",
      "A value is trying to be set on a copy of a slice from a DataFrame.\n",
      "Try using .loc[row_indexer,col_indexer] = value instead\n",
      "\n",
      "See the caveats in the documentation: https://pandas.pydata.org/pandas-docs/stable/user_guide/indexing.html#returning-a-view-versus-a-copy\n",
      "  self[k1] = value[k2]\n"
     ]
    },
    {
     "data": {
      "text/html": [
       "<div>\n",
       "<style scoped>\n",
       "    .dataframe tbody tr th:only-of-type {\n",
       "        vertical-align: middle;\n",
       "    }\n",
       "\n",
       "    .dataframe tbody tr th {\n",
       "        vertical-align: top;\n",
       "    }\n",
       "\n",
       "    .dataframe thead th {\n",
       "        text-align: right;\n",
       "    }\n",
       "</style>\n",
       "<table border=\"1\" class=\"dataframe\">\n",
       "  <thead>\n",
       "    <tr style=\"text-align: right;\">\n",
       "      <th></th>\n",
       "      <th>current_price</th>\n",
       "      <th>days_before_departure</th>\n",
       "      <th>od_destination_time_month</th>\n",
       "      <th>od_destination_time_week</th>\n",
       "      <th>od_destination_time_day</th>\n",
       "      <th>od_destination_time_weekday</th>\n",
       "      <th>od_time_travel</th>\n",
       "      <th>od_destination_time_hourmin</th>\n",
       "      <th>od_origin_time_hourmin</th>\n",
       "      <th>direction_bool</th>\n",
       "      <th>demand</th>\n",
       "      <th>of_holiday</th>\n",
       "      <th>unof_holiday</th>\n",
       "      <th>date_numerical</th>\n",
       "    </tr>\n",
       "  </thead>\n",
       "  <tbody>\n",
       "    <tr>\n",
       "      <th>0</th>\n",
       "      <td>0.788732</td>\n",
       "      <td>0.000000</td>\n",
       "      <td>0.0</td>\n",
       "      <td>0.0</td>\n",
       "      <td>0.033333</td>\n",
       "      <td>0.166667</td>\n",
       "      <td>0.901961</td>\n",
       "      <td>0.231013</td>\n",
       "      <td>0.224219</td>\n",
       "      <td>1</td>\n",
       "      <td>1.0</td>\n",
       "      <td>0</td>\n",
       "      <td>0</td>\n",
       "      <td>2</td>\n",
       "    </tr>\n",
       "    <tr>\n",
       "      <th>1</th>\n",
       "      <td>0.788732</td>\n",
       "      <td>0.034483</td>\n",
       "      <td>0.0</td>\n",
       "      <td>0.0</td>\n",
       "      <td>0.033333</td>\n",
       "      <td>0.166667</td>\n",
       "      <td>0.901961</td>\n",
       "      <td>0.231013</td>\n",
       "      <td>0.224219</td>\n",
       "      <td>1</td>\n",
       "      <td>1.0</td>\n",
       "      <td>0</td>\n",
       "      <td>0</td>\n",
       "      <td>2</td>\n",
       "    </tr>\n",
       "    <tr>\n",
       "      <th>2</th>\n",
       "      <td>0.788732</td>\n",
       "      <td>0.068966</td>\n",
       "      <td>0.0</td>\n",
       "      <td>0.0</td>\n",
       "      <td>0.033333</td>\n",
       "      <td>0.166667</td>\n",
       "      <td>0.901961</td>\n",
       "      <td>0.231013</td>\n",
       "      <td>0.224219</td>\n",
       "      <td>1</td>\n",
       "      <td>0.0</td>\n",
       "      <td>0</td>\n",
       "      <td>0</td>\n",
       "      <td>2</td>\n",
       "    </tr>\n",
       "    <tr>\n",
       "      <th>3</th>\n",
       "      <td>0.788732</td>\n",
       "      <td>0.103448</td>\n",
       "      <td>0.0</td>\n",
       "      <td>0.0</td>\n",
       "      <td>0.033333</td>\n",
       "      <td>0.166667</td>\n",
       "      <td>0.901961</td>\n",
       "      <td>0.231013</td>\n",
       "      <td>0.224219</td>\n",
       "      <td>1</td>\n",
       "      <td>1.0</td>\n",
       "      <td>0</td>\n",
       "      <td>0</td>\n",
       "      <td>2</td>\n",
       "    </tr>\n",
       "    <tr>\n",
       "      <th>4</th>\n",
       "      <td>0.788732</td>\n",
       "      <td>0.137931</td>\n",
       "      <td>0.0</td>\n",
       "      <td>0.0</td>\n",
       "      <td>0.033333</td>\n",
       "      <td>0.166667</td>\n",
       "      <td>0.901961</td>\n",
       "      <td>0.231013</td>\n",
       "      <td>0.224219</td>\n",
       "      <td>1</td>\n",
       "      <td>0.0</td>\n",
       "      <td>0</td>\n",
       "      <td>0</td>\n",
       "      <td>2</td>\n",
       "    </tr>\n",
       "    <tr>\n",
       "      <th>...</th>\n",
       "      <td>...</td>\n",
       "      <td>...</td>\n",
       "      <td>...</td>\n",
       "      <td>...</td>\n",
       "      <td>...</td>\n",
       "      <td>...</td>\n",
       "      <td>...</td>\n",
       "      <td>...</td>\n",
       "      <td>...</td>\n",
       "      <td>...</td>\n",
       "      <td>...</td>\n",
       "      <td>...</td>\n",
       "      <td>...</td>\n",
       "      <td>...</td>\n",
       "    </tr>\n",
       "    <tr>\n",
       "      <th>292645</th>\n",
       "      <td>0.000000</td>\n",
       "      <td>0.862069</td>\n",
       "      <td>1.0</td>\n",
       "      <td>1.0</td>\n",
       "      <td>0.900000</td>\n",
       "      <td>0.666667</td>\n",
       "      <td>0.490196</td>\n",
       "      <td>1.000000</td>\n",
       "      <td>1.000000</td>\n",
       "      <td>0</td>\n",
       "      <td>0.0</td>\n",
       "      <td>0</td>\n",
       "      <td>0</td>\n",
       "      <td>362</td>\n",
       "    </tr>\n",
       "    <tr>\n",
       "      <th>292646</th>\n",
       "      <td>0.000000</td>\n",
       "      <td>0.896552</td>\n",
       "      <td>1.0</td>\n",
       "      <td>1.0</td>\n",
       "      <td>0.900000</td>\n",
       "      <td>0.666667</td>\n",
       "      <td>0.490196</td>\n",
       "      <td>1.000000</td>\n",
       "      <td>1.000000</td>\n",
       "      <td>0</td>\n",
       "      <td>0.0</td>\n",
       "      <td>0</td>\n",
       "      <td>0</td>\n",
       "      <td>362</td>\n",
       "    </tr>\n",
       "    <tr>\n",
       "      <th>292647</th>\n",
       "      <td>0.000000</td>\n",
       "      <td>0.931034</td>\n",
       "      <td>1.0</td>\n",
       "      <td>1.0</td>\n",
       "      <td>0.900000</td>\n",
       "      <td>0.666667</td>\n",
       "      <td>0.490196</td>\n",
       "      <td>1.000000</td>\n",
       "      <td>1.000000</td>\n",
       "      <td>0</td>\n",
       "      <td>0.0</td>\n",
       "      <td>0</td>\n",
       "      <td>0</td>\n",
       "      <td>362</td>\n",
       "    </tr>\n",
       "    <tr>\n",
       "      <th>292648</th>\n",
       "      <td>0.000000</td>\n",
       "      <td>0.965517</td>\n",
       "      <td>1.0</td>\n",
       "      <td>1.0</td>\n",
       "      <td>0.900000</td>\n",
       "      <td>0.666667</td>\n",
       "      <td>0.490196</td>\n",
       "      <td>1.000000</td>\n",
       "      <td>1.000000</td>\n",
       "      <td>0</td>\n",
       "      <td>0.0</td>\n",
       "      <td>0</td>\n",
       "      <td>0</td>\n",
       "      <td>362</td>\n",
       "    </tr>\n",
       "    <tr>\n",
       "      <th>292649</th>\n",
       "      <td>0.000000</td>\n",
       "      <td>1.000000</td>\n",
       "      <td>1.0</td>\n",
       "      <td>1.0</td>\n",
       "      <td>0.900000</td>\n",
       "      <td>0.666667</td>\n",
       "      <td>0.490196</td>\n",
       "      <td>1.000000</td>\n",
       "      <td>1.000000</td>\n",
       "      <td>0</td>\n",
       "      <td>0.0</td>\n",
       "      <td>0</td>\n",
       "      <td>0</td>\n",
       "      <td>362</td>\n",
       "    </tr>\n",
       "  </tbody>\n",
       "</table>\n",
       "<p>292650 rows × 14 columns</p>\n",
       "</div>"
      ],
      "text/plain": [
       "        current_price  days_before_departure  od_destination_time_month  \\\n",
       "0            0.788732               0.000000                        0.0   \n",
       "1            0.788732               0.034483                        0.0   \n",
       "2            0.788732               0.068966                        0.0   \n",
       "3            0.788732               0.103448                        0.0   \n",
       "4            0.788732               0.137931                        0.0   \n",
       "...               ...                    ...                        ...   \n",
       "292645       0.000000               0.862069                        1.0   \n",
       "292646       0.000000               0.896552                        1.0   \n",
       "292647       0.000000               0.931034                        1.0   \n",
       "292648       0.000000               0.965517                        1.0   \n",
       "292649       0.000000               1.000000                        1.0   \n",
       "\n",
       "        od_destination_time_week  od_destination_time_day  \\\n",
       "0                            0.0                 0.033333   \n",
       "1                            0.0                 0.033333   \n",
       "2                            0.0                 0.033333   \n",
       "3                            0.0                 0.033333   \n",
       "4                            0.0                 0.033333   \n",
       "...                          ...                      ...   \n",
       "292645                       1.0                 0.900000   \n",
       "292646                       1.0                 0.900000   \n",
       "292647                       1.0                 0.900000   \n",
       "292648                       1.0                 0.900000   \n",
       "292649                       1.0                 0.900000   \n",
       "\n",
       "        od_destination_time_weekday  od_time_travel  \\\n",
       "0                          0.166667        0.901961   \n",
       "1                          0.166667        0.901961   \n",
       "2                          0.166667        0.901961   \n",
       "3                          0.166667        0.901961   \n",
       "4                          0.166667        0.901961   \n",
       "...                             ...             ...   \n",
       "292645                     0.666667        0.490196   \n",
       "292646                     0.666667        0.490196   \n",
       "292647                     0.666667        0.490196   \n",
       "292648                     0.666667        0.490196   \n",
       "292649                     0.666667        0.490196   \n",
       "\n",
       "        od_destination_time_hourmin  od_origin_time_hourmin  direction_bool  \\\n",
       "0                          0.231013                0.224219               1   \n",
       "1                          0.231013                0.224219               1   \n",
       "2                          0.231013                0.224219               1   \n",
       "3                          0.231013                0.224219               1   \n",
       "4                          0.231013                0.224219               1   \n",
       "...                             ...                     ...             ...   \n",
       "292645                     1.000000                1.000000               0   \n",
       "292646                     1.000000                1.000000               0   \n",
       "292647                     1.000000                1.000000               0   \n",
       "292648                     1.000000                1.000000               0   \n",
       "292649                     1.000000                1.000000               0   \n",
       "\n",
       "        demand  of_holiday  unof_holiday  date_numerical  \n",
       "0          1.0           0             0               2  \n",
       "1          1.0           0             0               2  \n",
       "2          0.0           0             0               2  \n",
       "3          1.0           0             0               2  \n",
       "4          0.0           0             0               2  \n",
       "...        ...         ...           ...             ...  \n",
       "292645     0.0           0             0             362  \n",
       "292646     0.0           0             0             362  \n",
       "292647     0.0           0             0             362  \n",
       "292648     0.0           0             0             362  \n",
       "292649     0.0           0             0             362  \n",
       "\n",
       "[292650 rows x 14 columns]"
      ]
     },
     "execution_count": 4,
     "metadata": {},
     "output_type": "execute_result"
    }
   ],
   "source": [
    "scaled_features = utils.features_scale(all_features)\n",
    "scaled_features"
   ]
  },
  {
   "cell_type": "code",
   "execution_count": 7,
   "metadata": {},
   "outputs": [],
   "source": []
  },
  {
   "cell_type": "code",
   "execution_count": 5,
   "metadata": {},
   "outputs": [
    {
     "name": "stdout",
     "output_type": "stream",
     "text": [
      "(234120, 14)\n",
      "(58530, 14)\n"
     ]
    }
   ],
   "source": [
    "train_part, validation = train_test_split(scaled_features, test_size=0.2, shuffle=True, random_state=2334)\n",
    "print(train_part.shape)\n",
    "print(validation.shape)"
   ]
  },
  {
   "cell_type": "code",
   "execution_count": 106,
   "metadata": {},
   "outputs": [
    {
     "data": {
      "text/plain": [
       "RandomForestRegressor(n_jobs=-1)"
      ]
     },
     "execution_count": 106,
     "metadata": {},
     "output_type": "execute_result"
    }
   ],
   "source": [
    "rf = RandomForestRegressor(n_estimators=300,\n",
    "                                    bootstrap=True,   n_jobs=-1)\n",
    "rf.fit(train_part[utils.input_features], train_part.demand)\n",
    "#max_depth =100,\n",
    "#min_samples_split=5,\n",
    "#min_samples_leaf=9, "
   ]
  },
  {
   "cell_type": "code",
   "execution_count": 107,
   "metadata": {},
   "outputs": [
    {
     "name": "stdout",
     "output_type": "stream",
     "text": [
      "Features sorted by their score:\n",
      "[(0.5276, 'days_before_departure'), (0.1405, 'od_destination_time_hourmin'), (0.0715, 'od_origin_time_hourmin'), (0.0698, 'od_destination_time_weekday'), (0.0646, 'od_destination_time_day'), (0.0574, 'od_destination_time_week'), (0.027, 'od_time_travel'), (0.017, 'od_destination_time_month'), (0.0127, 'direction_bool'), (0.0119, 'current_price'), (0.0, 'unof_holiday'), (0.0, 'of_holiday')]\n"
     ]
    }
   ],
   "source": [
    "print (\"Features sorted by their score:\")\n",
    "print (sorted(zip(map(lambda x: round(x, 4), rf.feature_importances_), utils.input_features), \n",
    "             reverse=True))"
   ]
  },
  {
   "cell_type": "code",
   "execution_count": 111,
   "metadata": {},
   "outputs": [
    {
     "data": {
      "text/plain": [
       "0.9101315564667691"
      ]
     },
     "execution_count": 111,
     "metadata": {},
     "output_type": "execute_result"
    }
   ],
   "source": [
    "prediction_validation = np.array(rf.predict(validation.loc[:, utils.input_features].values),dtype=float)\n",
    "np.mean(abs(np.rint(prediction_validation.flatten()) - np.array(validation.demand)))\n"
   ]
  },
  {
   "cell_type": "code",
   "execution_count": 114,
   "metadata": {},
   "outputs": [
    {
     "data": {
      "text/plain": [
       "0.37227279618252834"
      ]
     },
     "execution_count": 114,
     "metadata": {},
     "output_type": "execute_result"
    }
   ],
   "source": [
    "np.mean((np.rint(prediction_validation.flatten()) - np.array(validation.demand))**2)\n",
    "np.mean(validation.current_price*abs(np.rint(prediction_validation.flatten()) - np.array(validation.demand)))\n"
   ]
  },
  {
   "cell_type": "markdown",
   "metadata": {},
   "source": []
  },
  {
   "cell_type": "code",
   "execution_count": 104,
   "metadata": {},
   "outputs": [
    {
     "data": {
      "text/plain": [
       "53152.0"
      ]
     },
     "execution_count": 104,
     "metadata": {},
     "output_type": "execute_result"
    }
   ],
   "source": [
    "abs(np.rint(prediction_validation.flatten()) - np.array(validation.demand)).sum()"
   ]
  },
  {
   "cell_type": "code",
   "execution_count": 68,
   "metadata": {},
   "outputs": [
    {
     "data": {
      "text/plain": [
       "211355    12.0\n",
       "22542      0.0\n",
       "175520     0.0\n",
       "164469     0.0\n",
       "53493      1.0\n",
       "3425       0.0\n",
       "114222     4.0\n",
       "279693     2.0\n",
       "288242     1.0\n",
       "53472      0.0\n",
       "46877      0.0\n",
       "258114     0.0\n",
       "261527     0.0\n",
       "288851     0.0\n",
       "12531      0.0\n",
       "13239      2.0\n",
       "131026     0.0\n",
       "202713     0.0\n",
       "70099      0.0\n",
       "272301     0.0\n",
       "62069      2.0\n",
       "105555     0.0\n",
       "199281     0.0\n",
       "40656      2.0\n",
       "190645     0.0\n",
       "16710      1.0\n",
       "80936      0.0\n",
       "200264     0.0\n",
       "160304     0.0\n",
       "140574     0.0\n",
       "2754       0.0\n",
       "72947      0.0\n",
       "198210    13.0\n",
       "269267     0.0\n",
       "144252     0.0\n",
       "87238      0.0\n",
       "199080     5.0\n",
       "145750     0.0\n",
       "4273       0.0\n",
       "210740     0.0\n",
       "213507     0.0\n",
       "210505     0.0\n",
       "287278     0.0\n",
       "29457      0.0\n",
       "176853     0.0\n",
       "176438     0.0\n",
       "277119     1.0\n",
       "67301      0.0\n",
       "1025       0.0\n",
       "11352      0.0\n",
       "Name: demand, dtype: float64"
      ]
     },
     "execution_count": 68,
     "metadata": {},
     "output_type": "execute_result"
    }
   ],
   "source": [
    "validation.demand[:50]"
   ]
  },
  {
   "cell_type": "code",
   "execution_count": 445,
   "metadata": {},
   "outputs": [
    {
     "data": {
      "text/plain": [
       "array([36, 85, 51, ..., 54, 58, 21])"
      ]
     },
     "execution_count": 445,
     "metadata": {},
     "output_type": "execute_result"
    }
   ],
   "source": [
    "import matplotlib.pyplot as plt\n",
    "import numpy as np\n",
    "import pandas as pd\n",
    "x = np.random.randint(1, 100, 5000)\n",
    "x\n",
    "#plt.hist(x, bins=20)\n",
    "#plt.ylabel('No of times')\n",
    "#plt.show()"
   ]
  },
  {
   "cell_type": "code",
   "execution_count": 459,
   "metadata": {},
   "outputs": [
    {
     "data": {
      "text/plain": [
       "47836.0"
      ]
     },
     "execution_count": 459,
     "metadata": {},
     "output_type": "execute_result"
    }
   ],
   "source": [
    "all_features[all_features.od_destination_time_weekday.eq(1)].demand.sum()"
   ]
  },
  {
   "cell_type": "code",
   "execution_count": 495,
   "metadata": {},
   "outputs": [
    {
     "data": {
      "text/plain": [
       "[47836.0, 51640.0, 56415.0, 75985.0, 44189.0, 59877.0, 59768.0]"
      ]
     },
     "execution_count": 495,
     "metadata": {},
     "output_type": "execute_result"
    }
   ],
   "source": [
    "dem_weekday = [all_features[all_features.od_destination_time_weekday.eq(x)].demand.sum() for x in all_features.od_destination_time_weekday.unique()]\n",
    "dem_weekday"
   ]
  },
  {
   "cell_type": "code",
   "execution_count": 502,
   "metadata": {},
   "outputs": [
    {
     "data": {
      "text/plain": [
       "[128910.0,\n",
       " 71994.0,\n",
       " 29729.0,\n",
       " 22823.0,\n",
       " 18193.0,\n",
       " 14955.0,\n",
       " 12845.0,\n",
       " 11473.0,\n",
       " 9278.0,\n",
       " 7570.0,\n",
       " 6572.0,\n",
       " 5701.0,\n",
       " 4991.0,\n",
       " 4829.0,\n",
       " 4788.0,\n",
       " 4409.0,\n",
       " 3938.0,\n",
       " 3582.0,\n",
       " 3376.0,\n",
       " 3074.0,\n",
       " 2984.0,\n",
       " 2867.0,\n",
       " 2666.0,\n",
       " 2417.0,\n",
       " 2438.0,\n",
       " 1943.0,\n",
       " 1951.0,\n",
       " 1843.0,\n",
       " 1828.0,\n",
       " 1743.0]"
      ]
     },
     "execution_count": 502,
     "metadata": {},
     "output_type": "execute_result"
    }
   ],
   "source": [
    "dem_daysbefore = [all_features[all_features.days_before_departure.eq(x)].demand.sum() for x in all_features.days_before_departure.unique()]\n",
    "dem_daysbefore"
   ]
  },
  {
   "cell_type": "code",
   "execution_count": 485,
   "metadata": {},
   "outputs": [
    {
     "data": {
      "text/plain": [
       "365"
      ]
     },
     "execution_count": 485,
     "metadata": {},
     "output_type": "execute_result"
    }
   ],
   "source": [
    "dem_date = [all_features[all_features.date_numerical.eq(x)].demand.sum() for x in all_features.date_numerical.unique()]\n",
    "len(dem_date)"
   ]
  },
  {
   "cell_type": "code",
   "execution_count": 499,
   "metadata": {},
   "outputs": [
    {
     "name": "stdout",
     "output_type": "stream",
     "text": [
      "[47836.0, 51640.0, 56415.0, 75985.0, 44189.0, 59877.0, 59768.0]\n"
     ]
    },
    {
     "data": {
      "image/png": "[encoded data removed]",
      "text/plain": [
       "<Figure size 432x288 with 1 Axes>"
      ]
     },
     "metadata": {
      "needs_background": "light"
     },
     "output_type": "display_data"
    }
   ],
   "source": [
    "print(dem_weekday)\n",
    "plt.plot(range(0,len(dem_weekday)),dem_weekday)\n",
    "plt.xlabel('Date')\n",
    "plt.show()"
   ]
  },
  {
   "cell_type": "code",
   "execution_count": 500,
   "metadata": {},
   "outputs": [
    {
     "data": {
      "image/png": "[encoded data removed]",
      "text/plain": [
       "<Figure size 432x288 with 1 Axes>"
      ]
     },
     "metadata": {
      "needs_background": "light"
     },
     "output_type": "display_data"
    }
   ],
   "source": [
    "import matplotlib.pyplot as plt\n",
    "plt.plot(range(0,len(dem_date)),dem_date)\n",
    "plt.xlabel('Date')\n",
    "plt.show()\n"
   ]
  },
  {
   "cell_type": "code",
   "execution_count": 503,
   "metadata": {},
   "outputs": [
    {
     "data": {
      "image/png": "[encoded data removed]",
      "text/plain": [
       "<Figure size 432x288 with 1 Axes>"
      ]
     },
     "metadata": {
      "needs_background": "light"
     },
     "output_type": "display_data"
    }
   ],
   "source": [
    "import matplotlib.pyplot as plt\n",
    "plt.plot(range(0,len(dem_daysbefore)),dem_daysbefore)\n",
    "plt.xlabel('Date')\n",
    "plt.show()"
   ]
  },
  {
   "cell_type": "code",
   "execution_count": 130,
   "metadata": {},
   "outputs": [
    {
     "name": "stdout",
     "output_type": "stream",
     "text": [
      "[4.061721991701245, 3.087153652392947, 1.8648090815273477, 1.6137295081967213, 1.384028484231943, 1.2968906720160482, 1.2306143001007048, 1.1737160120845922, 1.0198329853862214, 0.8802638254693049, 0.7982723577235772, 0.7129629629629629, 0.6539466806063774, 0.7009345794392523, 0.6842644797539723, 0.6121304791029561, 0.5665809768637532, 0.5187891440501043, 0.4939947780678851, 0.43224181360201513, 0.4473947895791583, 0.4162653825575174, 0.4189261031366295, 0.3882167280378748, 0.3724035608308605, 0.2683049147442327, 0.29339477726574503, 0.3062468257998984, 0.2751918158567775, 0.3000514668039115]\n",
      "[13.193983402489627, 7.442317380352645, 3.0779153766769864, 2.3283811475409837, 1.8051881993896235, 1.5817452357071213, 1.3061430010070494, 1.190332326283988, 0.9290187891440501, 0.8163368848300355, 0.6432926829268293, 0.5493827160493827, 0.483533716675379, 0.5456905503634476, 0.5340850845720143, 0.4617737003058104, 0.44267352185089975, 0.3862212943632568, 0.36553524804177545, 0.28161209068010074, 0.312625250501002, 0.30711610486891383, 0.25465178096757046, 0.27301420305102575, 0.26508407517309596, 0.1629889669007021, 0.17357910906298002, 0.19400711020822753, 0.1846547314578005, 0.17292846114256305]\n",
      "[13.554460580912863, 7.601511335012594, 3.0789473684210527, 2.4123975409836067, 1.965412004069176, 1.679037111334002, 1.3957703927492446, 1.2744209466263847, 1.0521920668058455, 0.8209030948756976, 0.7271341463414634, 0.6718106995884774, 0.5488761108207004, 0.5, 0.4628395694515633, 0.4347604485219164, 0.3686375321336761, 0.34237995824634654, 0.3195822454308094, 0.29269521410579347, 0.30110220440881763, 0.26217228464419473, 0.27910685805422647, 0.22567069963177275, 0.1933728981206726, 0.15245737211634905, 0.18433179723502305, 0.1579481970543423, 0.13554987212276215, 0.18373648996397324]\n",
      "0.9091091709964181\n",
      "66.47715701349735\n"
     ]
    }
   ],
   "source": [
    "second = prediction_validation\n",
    "diff = (abs(np.rint(second.flatten()) - np.array(validation.demand)))\n",
    "diff_price = (abs(np.rint(second.flatten()) - np.array(validation.demand)*np.array(val.current_price)))\n",
    "\n",
    "mse = ((np.rint(second.flatten()) - np.array(validation.demand)**2))\n",
    "val = validation.copy()\n",
    "from sklearn.preprocessing import MinMaxScaler\n",
    "\n",
    "sc = MinMaxScaler()\n",
    "sc.fit(all_features.loc[:, utils.scalable_columns])\n",
    "val[utils.scalable_columns]= sc.inverse_transform(validation.loc[:, utils.scalable_columns])\n",
    "\n",
    "np.unique(diff)\n",
    "val[\"diff_second\"] = diff\n",
    "val[\"predict\"] = np.rint(second.flatten())\n",
    "val[\"mse\"] = mse\n",
    "\n",
    "#dem_daysbefore_val = [ np.mean(val[val.days_before_departure.eq(x)].diff_second)/np.mean(val[val.days_before_departure.eq(x)].demand) for x in sorted(val.days_before_departure.unique())]\n",
    "dem_daysbefore_val = [ np.mean(val[val.days_before_departure.eq(x)].diff_second) for x in sorted(val.days_before_departure.unique())]\n",
    "#dem_daysbefore_val = [ -np.mean(val[val.days_before_departure.eq(x)].predict)+np.mean(val[val.days_before_departure.eq(x)].demand) for x in sorted(val.days_before_departure.unique())]\n",
    "dem_daysbefore_va = [ np.mean(val[val.days_before_departure.eq(x)].demand) for x in sorted(val.days_before_departure.unique())]\n",
    "dem_daysbefore_v = [ np.mean(val[val.days_before_departure.eq(x)].predict) for x in sorted(val.days_before_departure.unique())]\n",
    "diff_price =  (abs(np.rint(second.flatten()) - np.array(val.demand))*np.array(val.current_price))\n",
    "\n",
    "print (dem_daysbefore_val)\n",
    "print (dem_daysbefore_va)\n",
    "print (dem_daysbefore_v)\n",
    "\n",
    "print (np.mean(dem_daysbefore_val))\n",
    "print (np.mean(diff_price))"
   ]
  },
  {
   "cell_type": "code",
   "execution_count": 116,
   "metadata": {},
   "outputs": [
    {
     "data": {
      "image/png": "[encoded data removed]",
      "text/plain": [
       "<Figure size 432x288 with 1 Axes>"
      ]
     },
     "metadata": {
      "needs_background": "light"
     },
     "output_type": "display_data"
    }
   ],
   "source": [
    "import matplotlib.pyplot as plt\n",
    "plt.plot(range(0,len(dem_daysbefore_val)),dem_daysbefore_val)\n",
    "plt.xlabel('Date')\n",
    "plt.show()"
   ]
  },
  {
   "cell_type": "code",
   "execution_count": 127,
   "metadata": {},
   "outputs": [],
   "source": [
    "diff_price = (abs(np.rint(second.flatten()) - np.array(validation.demand)*np.array(val.current_price)))\n"
   ]
  },
  {
   "cell_type": "code",
   "execution_count": 126,
   "metadata": {},
   "outputs": [
    {
     "data": {
      "text/plain": [
       "211355    0.000000\n",
       "22542     0.000000\n",
       "175520    0.788732\n",
       "164469    0.788732\n",
       "53493     0.788732\n",
       "            ...   \n",
       "225451    0.577465\n",
       "67483     0.000000\n",
       "10644     0.000000\n",
       "255157    0.788732\n",
       "227682    0.577465\n",
       "Name: current_price, Length: 58530, dtype: float64"
      ]
     },
     "execution_count": 126,
     "metadata": {},
     "output_type": "execute_result"
    }
   ],
   "source": [
    "val.current_price"
   ]
  },
  {
   "cell_type": "code",
   "execution_count": null,
   "metadata": {},
   "outputs": [],
   "source": []
  }
 ],
 "metadata": {
  "kernelspec": {
   "display_name": "Python 3",
   "language": "python",
   "name": "python3"
  },
  "language_info": {
   "codemirror_mode": {
    "name": "ipython",
    "version": 3
   },
   "file_extension": ".py",
   "mimetype": "text/x-python",
   "name": "python",
   "nbconvert_exporter": "python",
   "pygments_lexer": "ipython3",
   "version": "3.8.4"
  }
 },
 "nbformat": 4,
 "nbformat_minor": 4
}
